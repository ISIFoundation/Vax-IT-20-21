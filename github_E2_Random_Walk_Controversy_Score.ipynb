{
 "cells": [
  {
   "cell_type": "markdown",
   "metadata": {},
   "source": [
    "# Random Walk Controversy score (RWC)\n",
    "## In this notebook:\n",
    "* For each time period we define $H$ and $S$ subgroups of nodes, where $H$ is the set of users forming the vaccine hesitant community and $S$ is the set of users forming the vaccine supporters community.\n",
    "* We remove PET users and leave UNASSIGNED users.\n",
    "* We compute the RWC for all the retweet networks, as well as $H \\rightarrow S$ and $S \\rightarrow H$ probabilities, where $prob(H \\rightarrow S)$ is the contidional probability for a random walker to have started in $H$ given that it has ended in $S$.  \n",
    "* We use $K=100$ as the number of most important nodes per side.\n",
    "* We plot both the RWC score and the transition probabilities on a 2Y-axes plot."
   ]
  },
  {
   "cell_type": "code",
   "execution_count": 1,
   "metadata": {},
   "outputs": [],
   "source": [
    "import networkx as nx\n",
    "import heapq\n",
    "from operator import itemgetter\n",
    "import pandas as pd\n",
    "import numpy as np"
   ]
  },
  {
   "cell_type": "code",
   "execution_count": 2,
   "metadata": {},
   "outputs": [],
   "source": [
    "# script to simulate randomwalk with restart using the personalized page rank from networkx.\n",
    "\n",
    "# uses the same intuition as the randomwalk score in the WSDM paper. What is the probability that a randomwalk \n",
    "# ending in a particular side started on the other side.\n",
    "\n",
    "# we need networkx > 1.10 "
   ]
  },
  {
   "cell_type": "markdown",
   "metadata": {},
   "source": [
    "## Importing networks\n"
   ]
  },
  {
   "cell_type": "code",
   "execution_count": 3,
   "metadata": {
    "scrolled": true
   },
   "outputs": [
    {
     "ename": "FileNotFoundError",
     "evalue": "[Errno 2] No such file or directory: '/../github_alltime_edgelist.csv'",
     "output_type": "error",
     "traceback": [
      "\u001b[0;31m---------------------------------------------------------------------------\u001b[0m",
      "\u001b[0;31mFileNotFoundError\u001b[0m                         Traceback (most recent call last)",
      "\u001b[0;32m<ipython-input-3-b5fd95c72b0a>\u001b[0m in \u001b[0;36m<module>\u001b[0;34m\u001b[0m\n\u001b[0;32m----> 1\u001b[0;31m \u001b[0mt\u001b[0m \u001b[0;34m=\u001b[0m \u001b[0mpd\u001b[0m\u001b[0;34m.\u001b[0m\u001b[0mread_csv\u001b[0m\u001b[0;34m(\u001b[0m\u001b[0;34m'/../github_alltime_edgelist.csv'\u001b[0m\u001b[0;34m)\u001b[0m\u001b[0;34m.\u001b[0m\u001b[0mdrop\u001b[0m\u001b[0;34m(\u001b[0m\u001b[0;34m[\u001b[0m\u001b[0;34m'Unnamed: 0'\u001b[0m\u001b[0;34m]\u001b[0m\u001b[0;34m,\u001b[0m\u001b[0maxis\u001b[0m\u001b[0;34m=\u001b[0m\u001b[0;36m1\u001b[0m\u001b[0;34m)\u001b[0m\u001b[0;34m\u001b[0m\u001b[0;34m\u001b[0m\u001b[0m\n\u001b[0m\u001b[1;32m      2\u001b[0m \u001b[0mt\u001b[0m\u001b[0;34m[\u001b[0m\u001b[0mt\u001b[0m\u001b[0;34m[\u001b[0m\u001b[0;34m'weight'\u001b[0m\u001b[0;34m]\u001b[0m \u001b[0;34m>\u001b[0m \u001b[0;36m1\u001b[0m\u001b[0;34m]\u001b[0m \u001b[0;31m#applying filter on edges' weight\u001b[0m\u001b[0;34m\u001b[0m\u001b[0;34m\u001b[0m\u001b[0m\n",
      "\u001b[0;32m~/anaconda3/lib/python3.8/site-packages/pandas/util/_decorators.py\u001b[0m in \u001b[0;36mwrapper\u001b[0;34m(*args, **kwargs)\u001b[0m\n\u001b[1;32m    309\u001b[0m                     \u001b[0mstacklevel\u001b[0m\u001b[0;34m=\u001b[0m\u001b[0mstacklevel\u001b[0m\u001b[0;34m,\u001b[0m\u001b[0;34m\u001b[0m\u001b[0;34m\u001b[0m\u001b[0m\n\u001b[1;32m    310\u001b[0m                 )\n\u001b[0;32m--> 311\u001b[0;31m             \u001b[0;32mreturn\u001b[0m \u001b[0mfunc\u001b[0m\u001b[0;34m(\u001b[0m\u001b[0;34m*\u001b[0m\u001b[0margs\u001b[0m\u001b[0;34m,\u001b[0m \u001b[0;34m**\u001b[0m\u001b[0mkwargs\u001b[0m\u001b[0;34m)\u001b[0m\u001b[0;34m\u001b[0m\u001b[0;34m\u001b[0m\u001b[0m\n\u001b[0m\u001b[1;32m    312\u001b[0m \u001b[0;34m\u001b[0m\u001b[0m\n\u001b[1;32m    313\u001b[0m         \u001b[0;32mreturn\u001b[0m \u001b[0mwrapper\u001b[0m\u001b[0;34m\u001b[0m\u001b[0;34m\u001b[0m\u001b[0m\n",
      "\u001b[0;32m~/anaconda3/lib/python3.8/site-packages/pandas/io/parsers/readers.py\u001b[0m in \u001b[0;36mread_csv\u001b[0;34m(filepath_or_buffer, sep, delimiter, header, names, index_col, usecols, squeeze, prefix, mangle_dupe_cols, dtype, engine, converters, true_values, false_values, skipinitialspace, skiprows, skipfooter, nrows, na_values, keep_default_na, na_filter, verbose, skip_blank_lines, parse_dates, infer_datetime_format, keep_date_col, date_parser, dayfirst, cache_dates, iterator, chunksize, compression, thousands, decimal, lineterminator, quotechar, quoting, doublequote, escapechar, comment, encoding, encoding_errors, dialect, error_bad_lines, warn_bad_lines, on_bad_lines, delim_whitespace, low_memory, memory_map, float_precision, storage_options)\u001b[0m\n\u001b[1;32m    584\u001b[0m     \u001b[0mkwds\u001b[0m\u001b[0;34m.\u001b[0m\u001b[0mupdate\u001b[0m\u001b[0;34m(\u001b[0m\u001b[0mkwds_defaults\u001b[0m\u001b[0;34m)\u001b[0m\u001b[0;34m\u001b[0m\u001b[0;34m\u001b[0m\u001b[0m\n\u001b[1;32m    585\u001b[0m \u001b[0;34m\u001b[0m\u001b[0m\n\u001b[0;32m--> 586\u001b[0;31m     \u001b[0;32mreturn\u001b[0m \u001b[0m_read\u001b[0m\u001b[0;34m(\u001b[0m\u001b[0mfilepath_or_buffer\u001b[0m\u001b[0;34m,\u001b[0m \u001b[0mkwds\u001b[0m\u001b[0;34m)\u001b[0m\u001b[0;34m\u001b[0m\u001b[0;34m\u001b[0m\u001b[0m\n\u001b[0m\u001b[1;32m    587\u001b[0m \u001b[0;34m\u001b[0m\u001b[0m\n\u001b[1;32m    588\u001b[0m \u001b[0;34m\u001b[0m\u001b[0m\n",
      "\u001b[0;32m~/anaconda3/lib/python3.8/site-packages/pandas/io/parsers/readers.py\u001b[0m in \u001b[0;36m_read\u001b[0;34m(filepath_or_buffer, kwds)\u001b[0m\n\u001b[1;32m    480\u001b[0m \u001b[0;34m\u001b[0m\u001b[0m\n\u001b[1;32m    481\u001b[0m     \u001b[0;31m# Create the parser.\u001b[0m\u001b[0;34m\u001b[0m\u001b[0;34m\u001b[0m\u001b[0;34m\u001b[0m\u001b[0m\n\u001b[0;32m--> 482\u001b[0;31m     \u001b[0mparser\u001b[0m \u001b[0;34m=\u001b[0m \u001b[0mTextFileReader\u001b[0m\u001b[0;34m(\u001b[0m\u001b[0mfilepath_or_buffer\u001b[0m\u001b[0;34m,\u001b[0m \u001b[0;34m**\u001b[0m\u001b[0mkwds\u001b[0m\u001b[0;34m)\u001b[0m\u001b[0;34m\u001b[0m\u001b[0;34m\u001b[0m\u001b[0m\n\u001b[0m\u001b[1;32m    483\u001b[0m \u001b[0;34m\u001b[0m\u001b[0m\n\u001b[1;32m    484\u001b[0m     \u001b[0;32mif\u001b[0m \u001b[0mchunksize\u001b[0m \u001b[0;32mor\u001b[0m \u001b[0miterator\u001b[0m\u001b[0;34m:\u001b[0m\u001b[0;34m\u001b[0m\u001b[0;34m\u001b[0m\u001b[0m\n",
      "\u001b[0;32m~/anaconda3/lib/python3.8/site-packages/pandas/io/parsers/readers.py\u001b[0m in \u001b[0;36m__init__\u001b[0;34m(self, f, engine, **kwds)\u001b[0m\n\u001b[1;32m    809\u001b[0m             \u001b[0mself\u001b[0m\u001b[0;34m.\u001b[0m\u001b[0moptions\u001b[0m\u001b[0;34m[\u001b[0m\u001b[0;34m\"has_index_names\"\u001b[0m\u001b[0;34m]\u001b[0m \u001b[0;34m=\u001b[0m \u001b[0mkwds\u001b[0m\u001b[0;34m[\u001b[0m\u001b[0;34m\"has_index_names\"\u001b[0m\u001b[0;34m]\u001b[0m\u001b[0;34m\u001b[0m\u001b[0;34m\u001b[0m\u001b[0m\n\u001b[1;32m    810\u001b[0m \u001b[0;34m\u001b[0m\u001b[0m\n\u001b[0;32m--> 811\u001b[0;31m         \u001b[0mself\u001b[0m\u001b[0;34m.\u001b[0m\u001b[0m_engine\u001b[0m \u001b[0;34m=\u001b[0m \u001b[0mself\u001b[0m\u001b[0;34m.\u001b[0m\u001b[0m_make_engine\u001b[0m\u001b[0;34m(\u001b[0m\u001b[0mself\u001b[0m\u001b[0;34m.\u001b[0m\u001b[0mengine\u001b[0m\u001b[0;34m)\u001b[0m\u001b[0;34m\u001b[0m\u001b[0;34m\u001b[0m\u001b[0m\n\u001b[0m\u001b[1;32m    812\u001b[0m \u001b[0;34m\u001b[0m\u001b[0m\n\u001b[1;32m    813\u001b[0m     \u001b[0;32mdef\u001b[0m \u001b[0mclose\u001b[0m\u001b[0;34m(\u001b[0m\u001b[0mself\u001b[0m\u001b[0;34m)\u001b[0m\u001b[0;34m:\u001b[0m\u001b[0;34m\u001b[0m\u001b[0;34m\u001b[0m\u001b[0m\n",
      "\u001b[0;32m~/anaconda3/lib/python3.8/site-packages/pandas/io/parsers/readers.py\u001b[0m in \u001b[0;36m_make_engine\u001b[0;34m(self, engine)\u001b[0m\n\u001b[1;32m   1038\u001b[0m             )\n\u001b[1;32m   1039\u001b[0m         \u001b[0;31m# error: Too many arguments for \"ParserBase\"\u001b[0m\u001b[0;34m\u001b[0m\u001b[0;34m\u001b[0m\u001b[0;34m\u001b[0m\u001b[0m\n\u001b[0;32m-> 1040\u001b[0;31m         \u001b[0;32mreturn\u001b[0m \u001b[0mmapping\u001b[0m\u001b[0;34m[\u001b[0m\u001b[0mengine\u001b[0m\u001b[0;34m]\u001b[0m\u001b[0;34m(\u001b[0m\u001b[0mself\u001b[0m\u001b[0;34m.\u001b[0m\u001b[0mf\u001b[0m\u001b[0;34m,\u001b[0m \u001b[0;34m**\u001b[0m\u001b[0mself\u001b[0m\u001b[0;34m.\u001b[0m\u001b[0moptions\u001b[0m\u001b[0;34m)\u001b[0m  \u001b[0;31m# type: ignore[call-arg]\u001b[0m\u001b[0;34m\u001b[0m\u001b[0;34m\u001b[0m\u001b[0m\n\u001b[0m\u001b[1;32m   1041\u001b[0m \u001b[0;34m\u001b[0m\u001b[0m\n\u001b[1;32m   1042\u001b[0m     \u001b[0;32mdef\u001b[0m \u001b[0m_failover_to_python\u001b[0m\u001b[0;34m(\u001b[0m\u001b[0mself\u001b[0m\u001b[0;34m)\u001b[0m\u001b[0;34m:\u001b[0m\u001b[0;34m\u001b[0m\u001b[0;34m\u001b[0m\u001b[0m\n",
      "\u001b[0;32m~/anaconda3/lib/python3.8/site-packages/pandas/io/parsers/c_parser_wrapper.py\u001b[0m in \u001b[0;36m__init__\u001b[0;34m(self, src, **kwds)\u001b[0m\n\u001b[1;32m     49\u001b[0m \u001b[0;34m\u001b[0m\u001b[0m\n\u001b[1;32m     50\u001b[0m         \u001b[0;31m# open handles\u001b[0m\u001b[0;34m\u001b[0m\u001b[0;34m\u001b[0m\u001b[0;34m\u001b[0m\u001b[0m\n\u001b[0;32m---> 51\u001b[0;31m         \u001b[0mself\u001b[0m\u001b[0;34m.\u001b[0m\u001b[0m_open_handles\u001b[0m\u001b[0;34m(\u001b[0m\u001b[0msrc\u001b[0m\u001b[0;34m,\u001b[0m \u001b[0mkwds\u001b[0m\u001b[0;34m)\u001b[0m\u001b[0;34m\u001b[0m\u001b[0;34m\u001b[0m\u001b[0m\n\u001b[0m\u001b[1;32m     52\u001b[0m         \u001b[0;32massert\u001b[0m \u001b[0mself\u001b[0m\u001b[0;34m.\u001b[0m\u001b[0mhandles\u001b[0m \u001b[0;32mis\u001b[0m \u001b[0;32mnot\u001b[0m \u001b[0;32mNone\u001b[0m\u001b[0;34m\u001b[0m\u001b[0;34m\u001b[0m\u001b[0m\n\u001b[1;32m     53\u001b[0m \u001b[0;34m\u001b[0m\u001b[0m\n",
      "\u001b[0;32m~/anaconda3/lib/python3.8/site-packages/pandas/io/parsers/base_parser.py\u001b[0m in \u001b[0;36m_open_handles\u001b[0;34m(self, src, kwds)\u001b[0m\n\u001b[1;32m    220\u001b[0m         \u001b[0mLet\u001b[0m \u001b[0mthe\u001b[0m \u001b[0mreaders\u001b[0m \u001b[0mopen\u001b[0m \u001b[0mIOHandles\u001b[0m \u001b[0mafter\u001b[0m \u001b[0mthey\u001b[0m \u001b[0mare\u001b[0m \u001b[0mdone\u001b[0m \u001b[0;32mwith\u001b[0m \u001b[0mtheir\u001b[0m \u001b[0mpotential\u001b[0m \u001b[0mraises\u001b[0m\u001b[0;34m.\u001b[0m\u001b[0;34m\u001b[0m\u001b[0;34m\u001b[0m\u001b[0m\n\u001b[1;32m    221\u001b[0m         \"\"\"\n\u001b[0;32m--> 222\u001b[0;31m         self.handles = get_handle(\n\u001b[0m\u001b[1;32m    223\u001b[0m             \u001b[0msrc\u001b[0m\u001b[0;34m,\u001b[0m\u001b[0;34m\u001b[0m\u001b[0;34m\u001b[0m\u001b[0m\n\u001b[1;32m    224\u001b[0m             \u001b[0;34m\"r\"\u001b[0m\u001b[0;34m,\u001b[0m\u001b[0;34m\u001b[0m\u001b[0;34m\u001b[0m\u001b[0m\n",
      "\u001b[0;32m~/anaconda3/lib/python3.8/site-packages/pandas/io/common.py\u001b[0m in \u001b[0;36mget_handle\u001b[0;34m(path_or_buf, mode, encoding, compression, memory_map, is_text, errors, storage_options)\u001b[0m\n\u001b[1;32m    699\u001b[0m         \u001b[0;32mif\u001b[0m \u001b[0mioargs\u001b[0m\u001b[0;34m.\u001b[0m\u001b[0mencoding\u001b[0m \u001b[0;32mand\u001b[0m \u001b[0;34m\"b\"\u001b[0m \u001b[0;32mnot\u001b[0m \u001b[0;32min\u001b[0m \u001b[0mioargs\u001b[0m\u001b[0;34m.\u001b[0m\u001b[0mmode\u001b[0m\u001b[0;34m:\u001b[0m\u001b[0;34m\u001b[0m\u001b[0;34m\u001b[0m\u001b[0m\n\u001b[1;32m    700\u001b[0m             \u001b[0;31m# Encoding\u001b[0m\u001b[0;34m\u001b[0m\u001b[0;34m\u001b[0m\u001b[0;34m\u001b[0m\u001b[0m\n\u001b[0;32m--> 701\u001b[0;31m             handle = open(\n\u001b[0m\u001b[1;32m    702\u001b[0m                 \u001b[0mhandle\u001b[0m\u001b[0;34m,\u001b[0m\u001b[0;34m\u001b[0m\u001b[0;34m\u001b[0m\u001b[0m\n\u001b[1;32m    703\u001b[0m                 \u001b[0mioargs\u001b[0m\u001b[0;34m.\u001b[0m\u001b[0mmode\u001b[0m\u001b[0;34m,\u001b[0m\u001b[0;34m\u001b[0m\u001b[0;34m\u001b[0m\u001b[0m\n",
      "\u001b[0;31mFileNotFoundError\u001b[0m: [Errno 2] No such file or directory: '/../github_alltime_edgelist.csv'"
     ]
    }
   ],
   "source": [
    "t = pd.read_csv('/../data/alltime_edgelist.csv').drop(['Unnamed: 0'],axis=1)\n",
    "t[t['weight'] > 1] #applying filter on edges' weight"
   ]
  },
  {
   "cell_type": "code",
   "execution_count": null,
   "metadata": {},
   "outputs": [],
   "source": [
    "usrs_net_df0 = t[t['time_window'] == 'i']\n",
    "usrs_net_df1 = t[t['time_window'] == 'ii']\n",
    "usrs_net_df2 = t[t['time_window'] == 'iii']\n",
    "usrs_net_df3 = t[t['time_window'] == 'iv']\n",
    "usrs_net_df4 = t[t['time_window'] == 'v']\n",
    "usrs_net_df5 = t[t['time_window'] == 'vi']"
   ]
  },
  {
   "cell_type": "code",
   "execution_count": null,
   "metadata": {},
   "outputs": [],
   "source": [
    "del t"
   ]
  },
  {
   "cell_type": "code",
   "execution_count": null,
   "metadata": {},
   "outputs": [],
   "source": [
    "#I apply the filter on the weight. I discard links with weight = 1\n",
    "G0w = nx.from_pandas_edgelist(usrs_net_df0[usrs_net_df0['weight'] > 1], source='user1', target='user2', edge_attr=True, create_using=nx.DiGraph())\n",
    "G1w = nx.from_pandas_edgelist(usrs_net_df1[usrs_net_df1['weight'] > 1], source='user1', target='user2', edge_attr=True, create_using=nx.DiGraph())\n",
    "G2w = nx.from_pandas_edgelist(usrs_net_df2[usrs_net_df2['weight'] > 1], source='user1', target='user2', edge_attr=True, create_using=nx.DiGraph())\n",
    "G3w = nx.from_pandas_edgelist(usrs_net_df3[usrs_net_df3['weight'] > 1], source='user1', target='user2', edge_attr=True, create_using=nx.DiGraph())\n",
    "G4w = nx.from_pandas_edgelist(usrs_net_df4[usrs_net_df4['weight'] > 1], source='user1', target='user2', edge_attr=True, create_using=nx.DiGraph())\n",
    "G5w = nx.from_pandas_edgelist(usrs_net_df5[usrs_net_df5['weight'] > 1], source='user1', target='user2', edge_attr=True, create_using=nx.DiGraph())"
   ]
  },
  {
   "cell_type": "code",
   "execution_count": null,
   "metadata": {},
   "outputs": [],
   "source": [
    "del G0w,G1w,G2w,G3w,G4w,G5w"
   ]
  },
  {
   "cell_type": "code",
   "execution_count": null,
   "metadata": {},
   "outputs": [],
   "source": [
    "#extracting the GCC out of the network obtained by the application of the filter weight > 1\n",
    "wcc0_w = max(nx.weakly_connected_components(G0w), key=len) \n",
    "wcc0_w = G0w.subgraph(wcc0_w).copy()\n",
    "\n",
    "wcc1_w = max(nx.weakly_connected_components(G1w), key=len) \n",
    "wcc1_w = G1w.subgraph(wcc1_w).copy()\n",
    "\n",
    "wcc2_w = max(nx.weakly_connected_components(G2w), key=len) \n",
    "wcc2_w = G2w.subgraph(wcc2_w).copy()\n",
    "\n",
    "wcc3_w = max(nx.weakly_connected_components(G3w), key=len) \n",
    "wcc3_w = G3w.subgraph(wcc3_w).copy()\n",
    "\n",
    "wcc4_w = max(nx.weakly_connected_components(G4w), key=len) \n",
    "wcc4_w = G4w.subgraph(wcc4_w).copy()\n",
    "\n",
    "wcc5_w = max(nx.weakly_connected_components(G5w), key=len) \n",
    "wcc5_w = G5w.subgraph(wcc5_w).copy()"
   ]
  },
  {
   "cell_type": "code",
   "execution_count": null,
   "metadata": {},
   "outputs": [],
   "source": [
    "N0wcc_w, N1wcc_w, N2wcc_w, N3wcc_w, N4wcc_w, N5wcc_w = wcc0_w.number_of_nodes(), wcc1_w.number_of_nodes(), wcc2_w.number_of_nodes(), wcc3_w.number_of_nodes(), wcc4_w.number_of_nodes(), wcc5_w.number_of_nodes()\n",
    "n0wcc_w, n1wcc_w, n2wcc_w, n3wcc_w, n4wcc_w, n5wcc_w = wcc0_w.number_of_edges(), wcc1_w.number_of_edges(), wcc2_w.number_of_edges(), wcc3_w.number_of_edges(), wcc4_w.number_of_edges(), wcc5_w.number_of_edges()\n",
    "\n",
    "print('i   -> Number of nodes:', N0wcc_w, ', number of edges', n0wcc_w)\n",
    "print('ii  -> Number of nodes:', N1wcc_w, ', number of edges', n1wcc_w)\n",
    "print('iii -> Number of nodes:', N2wcc_w, ', number of edges', n2wcc_w)\n",
    "print('iv  -> Number of nodes:', N3wcc_w, ', number of edges', n3wcc_w)\n",
    "print('v   -> Number of nodes:', N4wcc_w, ', number of edges', n4wcc_w)\n",
    "print('vi  -> Number of nodes:', N5wcc_w, ', number of edges', n5wcc_w)"
   ]
  },
  {
   "cell_type": "code",
   "execution_count": null,
   "metadata": {},
   "outputs": [],
   "source": [
    "wcc5_w.is_directed()"
   ]
  },
  {
   "cell_type": "markdown",
   "metadata": {},
   "source": [
    "## Importing nodes dataframes"
   ]
  },
  {
   "cell_type": "code",
   "execution_count": null,
   "metadata": {},
   "outputs": [],
   "source": [
    "#n is a dataframe like: id_usr, RMC, community, time_window \n",
    "n = pd.read_csv('/../data/nodes_example_i_vi.csv',dtype=str).drop(['Unnamed: 0'],axis=1)\n",
    "\n",
    "n0 = n[n['time_window'] == 'i']\n",
    "n1 = n[n['time_window'] == 'ii']\n",
    "n2 = n[n['time_window'] == 'iii']\n",
    "n3 = n[n['time_window'] == 'iv']\n",
    "n4 = n[n['time_window'] == 'v']\n",
    "n5 = n[n['time_window'] == 'vi']\n",
    "\n",
    "#vaccine hesitant community i: 1\n",
    "#vaccine hesitant community ii: 3\n",
    "#vaccine hesitant community iii: 1\n",
    "#vaccine hesitant community iv: 1\n",
    "#vaccine hesitant community v: 1\n",
    "#vaccine hesitant community vi: 1\n",
    "\n",
    "av0 = set(n0[n0['community'] == '1'].id_usr)\n",
    "av1 = set(n1[n1['community'] == '3'].id_usr)\n",
    "av2 = set(n2[n2['community'] == '1'].id_usr)\n",
    "av3 = set(n3[n3['community'] == '1'].id_usr)\n",
    "av4 = set(n4[n4['community'] == '1'].id_usr)\n",
    "av5 = set(n5[n5['community'] == '1'].id_usr)\n",
    "\n",
    "\n",
    "#vaccine supporters community i: 3\n",
    "#vaccine supporters community ii: 1\n",
    "#vaccine supporters community iii: 2\n",
    "#vaccine supporters community iv: 2\n",
    "#vaccine supporters community v: 2\n",
    "#vaccine supporters community vi: 2\n",
    "\n",
    "\n",
    "pv0 = set(n0[n0['community'] == '3'].id_usr)\n",
    "pv1 = set(n1[n1['community'] == '1'].id_usr)\n",
    "pv2 = set(n2[n2['community'] == '2'].id_usr)\n",
    "pv3 = set(n3[n3['community'] == '2'].id_usr)\n",
    "pv4 = set(n4[n4['community'] == '2'].id_usr)\n",
    "pv5 = set(n5[n5['community'] == '2'].id_usr)"
   ]
  },
  {
   "cell_type": "code",
   "execution_count": null,
   "metadata": {},
   "outputs": [],
   "source": [
    "n0.head()"
   ]
  },
  {
   "cell_type": "code",
   "execution_count": 7,
   "metadata": {},
   "outputs": [],
   "source": [
    "#returns a dict with uniform distribution to that particular side and close-to-zero to the other side    \n",
    "def getUniformDistribution(part_start, part_end, epsilon=1e-12):\n",
    "    uniform = {k:1.0/len(part_start) for k in part_start}\n",
    "    uniform.update({k:epsilon for k in part_end})\n",
    "    return uniform\n",
    "\n",
    "def getNodesFromPartitionWithHighestDegree(G, k, part):\n",
    "    # top-k largest nodes by in-degree in the given partition\n",
    "    return heapq.nlargest(k, G.in_degree(part), key=itemgetter(1))\n",
    "\n",
    "def rwc_score(G, partition, k=10, alpha=0.85, max_iter=100000):\n",
    "    # G is a NetworkX weighted directed graph\n",
    "    # partition is a dictionary side->set(nodes) where side \\in {0,1}\n",
    "    part_left  = partition[0] #nodes of the left partition\n",
    "    part_right = partition[1] #nodes of the right partition\n",
    "    \n",
    "    uniform_left   = getUniformDistribution(part_left, part_right)\n",
    "    #print(uniform_left,type(uniform_left))\n",
    "    pagerank_left  = nx.pagerank(G, alpha=alpha, \\\n",
    "                            personalization=uniform_left, \\\n",
    "                            dangling=uniform_left, max_iter=max_iter);\n",
    "\n",
    "    uniform_right  = getUniformDistribution(part_right, part_left)\n",
    "    pagerank_right = nx.pagerank(G, alpha=alpha, \\\n",
    "                            personalization=uniform_right, \\\n",
    "                            dangling=uniform_right, max_iter=max_iter);\n",
    "\n",
    "    top_nodes_left  = getNodesFromPartitionWithHighestDegree(G, k, part_left)\n",
    "    top_nodes_right = getNodesFromPartitionWithHighestDegree(G, k, part_right)\n",
    "        \n",
    "    start_left_end_left   = sum([pagerank_left[k]  for k,v in top_nodes_left])\n",
    "    start_left_end_right  = sum([pagerank_left[k]  for k,v in top_nodes_right])\n",
    "    start_right_end_left  = sum([pagerank_right[k] for k,v in top_nodes_left])\n",
    "    start_right_end_right = sum([pagerank_right[k] for k,v in top_nodes_right])\n",
    "    \n",
    "    left_ratio  = float(len(part_left))  / G.number_of_nodes()\n",
    "    right_ratio = float(len(part_right)) / G.number_of_nodes()\n",
    "    \n",
    "    p_start_left_end_left = (start_left_end_left * left_ratio)/ \\\n",
    "        ((start_left_end_left * left_ratio) + (start_right_end_left * right_ratio));\n",
    "\n",
    "    p_start_left_end_right = (start_left_end_right * left_ratio)/ \\\n",
    "        ((start_right_end_right * right_ratio) + (start_left_end_right * left_ratio));\n",
    "\n",
    "    p_start_right_end_right = (start_right_end_right * right_ratio)/ \\\n",
    "        ((start_right_end_right * right_ratio) + (start_left_end_right * left_ratio));\n",
    "\n",
    "    p_start_right_end_left = (start_right_end_left * right_ratio)/ \\\n",
    "        ((start_left_end_left * left_ratio) + (start_right_end_left * right_ratio));\n",
    "\n",
    "    #     print(\"left  -> left \", p_start_left_end_left)\n",
    "    #     print(\"right -> left \", p_start_right_end_left)\n",
    "    #     print(\"left  -> right\", p_start_left_end_right)\n",
    "    #     print(\"right -> right\", p_start_right_end_right)\n",
    "\n",
    "\n",
    "    rwc_score = p_start_left_end_left*p_start_right_end_right - p_start_left_end_right*p_start_right_end_left\n",
    "    print (rwc_score)\n",
    "    print({'hh': p_start_left_end_left,\n",
    "           'ss': p_start_right_end_right,\n",
    "           'hs': p_start_left_end_right,\n",
    "           'sh': p_start_right_end_left})\n",
    "    \n",
    "    return rwc_score, p_start_left_end_left, p_start_right_end_right, p_start_left_end_right, p_start_right_end_left"
   ]
  },
  {
   "cell_type": "markdown",
   "metadata": {},
   "source": [
    "## Computing RWC score"
   ]
  },
  {
   "cell_type": "code",
   "execution_count": 8,
   "metadata": {},
   "outputs": [
    {
     "name": "stdout",
     "output_type": "stream",
     "text": [
      "preCOVID |V|:\t 5528 \t |E|: 18409\n",
      "earlyCOVID |V|:\t 4247 \t |E|: 9054\n",
      "preVAX |V|:\t 18967 \t |E|: 80234\n",
      "earlyVAX |V|:\t 59398 \t |E|: 410515\n",
      "VAXdrive |V|:\t 43325 \t |E|: 318284\n",
      "lateVAX |V|:\t 44840 \t |E|: 451118\n"
     ]
    }
   ],
   "source": [
    "print('preCOVID |V|:\\t',wcc0_w.number_of_nodes(),'\\t |E|:',wcc0_w.number_of_edges())\n",
    "print('earlyCOVID |V|:\\t',wcc1_w.number_of_nodes(),'\\t |E|:',wcc1_w.number_of_edges())\n",
    "print('preVAX |V|:\\t',wcc2_w.number_of_nodes(),'\\t |E|:',wcc2_w.number_of_edges())\n",
    "print('earlyVAX |V|:\\t',wcc3_w.number_of_nodes(),'\\t |E|:',wcc3_w.number_of_edges())\n",
    "print('VAXdrive |V|:\\t',wcc4_w.number_of_nodes(),'\\t |E|:',wcc4_w.number_of_edges())\n",
    "print('lateVAX |V|:\\t',wcc5_w.number_of_nodes(),'\\t |E|:',wcc5_w.number_of_edges())"
   ]
  },
  {
   "cell_type": "code",
   "execution_count": 9,
   "metadata": {},
   "outputs": [],
   "source": [
    "n0.index = n0.id_usr\n",
    "n1.index = n1.id_usr\n",
    "n2.index = n2.id_usr\n",
    "n3.index = n3.id_usr\n",
    "n4.index = n4.id_usr\n",
    "n5.index = n5.id_usr"
   ]
  },
  {
   "cell_type": "code",
   "execution_count": 10,
   "metadata": {},
   "outputs": [],
   "source": [
    "#add attributes to nodes\n",
    "nx.set_node_attributes(wcc0_w,values=n0['community'].to_dict(),name='community')\n",
    "nx.set_node_attributes(wcc0_w,values=n0['RMC'].to_dict(),name='RMC')\n",
    "\n",
    "nx.set_node_attributes(wcc1_w,values=n1['community'].to_dict(),name='community')\n",
    "nx.set_node_attributes(wcc1_w,values=n1['RMC'].to_dict(),name='RMC')\n",
    "\n",
    "nx.set_node_attributes(wcc2_w,values=n2['community'].to_dict(),name='community')\n",
    "nx.set_node_attributes(wcc2_w,values=n2['RMC'].to_dict(),name='RMC')\n",
    "\n",
    "nx.set_node_attributes(wcc3_w,values=n3['community'].to_dict(),name='community')\n",
    "nx.set_node_attributes(wcc3_w,values=n3['RMC'].to_dict(),name='RMC')\n",
    "\n",
    "nx.set_node_attributes(wcc4_w,values=n4['community'].to_dict(),name='community')\n",
    "nx.set_node_attributes(wcc4_w,values=n4['RMC'].to_dict(),name='RMC')\n",
    "\n",
    "nx.set_node_attributes(wcc5_w,values=n5['community'].to_dict(),name='community')\n",
    "nx.set_node_attributes(wcc5_w,values=n5['RMC'].to_dict(),name='RMC')"
   ]
  },
  {
   "cell_type": "markdown",
   "metadata": {},
   "source": [
    "### Removing categories"
   ]
  },
  {
   "cell_type": "code",
   "execution_count": 11,
   "metadata": {},
   "outputs": [],
   "source": [
    "#REMOVING ONLY PET NODES\n",
    "#pet community preCOVID: 2\n",
    "#pet community earlyCOVID: 2\n",
    "#pet community preVAX: 3\n",
    "\n",
    "nodes0_0 = []\n",
    "for (p, d) in wcc0_w.nodes(data=True):\n",
    "    if d['community'] == '2': #removing pet users\n",
    "        nodes0_0.append(p)\n",
    "\n",
    "nodes0_1 = []\n",
    "for (p, d) in wcc1_w.nodes(data=True):\n",
    "    if d['community'] == '2':\n",
    "        nodes0_1.append(p)\n",
    "\n",
    "nodes0_2 = []\n",
    "for (p, d) in wcc2_w.nodes(data=True):\n",
    "    if d['community'] == '3':\n",
    "        nodes0_2.append(p)\n",
    "\n",
    "wcc0_w.remove_nodes_from(nodes0_0)\n",
    "wcc1_w.remove_nodes_from(nodes0_1)\n",
    "wcc2_w.remove_nodes_from(nodes0_2)"
   ]
  },
  {
   "cell_type": "code",
   "execution_count": 13,
   "metadata": {},
   "outputs": [
    {
     "name": "stdout",
     "output_type": "stream",
     "text": [
      "preCOVID |V|:\t 3326 \t |E|: 11096\n",
      "earlyCOVID |V|:\t 3126 \t |E|: 5796\n",
      "preVAX |V|:\t 17179 \t |E|: 72216\n",
      "earlyVAX |V|:\t 59398 \t |E|: 410515\n",
      "VAXdrive |V|:\t 43325 \t |E|: 318284\n",
      "lateVAX |V|:\t 44840 \t |E|: 451118\n"
     ]
    }
   ],
   "source": [
    "print('preCOVID |V|:\\t',wcc0_w.number_of_nodes(),'\\t |E|:',wcc0_w.number_of_edges())\n",
    "print('earlyCOVID |V|:\\t',wcc1_w.number_of_nodes(),'\\t |E|:',wcc1_w.number_of_edges())\n",
    "print('preVAX |V|:\\t',wcc2_w.number_of_nodes(),'\\t |E|:',wcc2_w.number_of_edges())\n",
    "print('earlyVAX |V|:\\t',wcc3_w.number_of_nodes(),'\\t |E|:',wcc3_w.number_of_edges())\n",
    "print('VAXdrive |V|:\\t',wcc4_w.number_of_nodes(),'\\t |E|:',wcc4_w.number_of_edges())\n",
    "print('lateVAX |V|:\\t',wcc5_w.number_of_nodes(),'\\t |E|:',wcc5_w.number_of_edges())"
   ]
  },
  {
   "cell_type": "markdown",
   "metadata": {},
   "source": [
    "* preCOVID |V|:  5528 \t |E|: 18409\n",
    "* earlyCOVID |V|:4247 \t |E|: 9054\n",
    "* preVAX |V|:\t 18967 \t |E|: 80234\n",
    "* earlyVAX |V|:\t 59398 \t |E|: 410515\n",
    "* VAXdrive |V|:\t 43325 \t |E|: 318284\n",
    "* lateVAX |V|:\t 44840 \t |E|: 451118"
   ]
  },
  {
   "cell_type": "code",
   "execution_count": 14,
   "metadata": {},
   "outputs": [],
   "source": [
    "#number of important nodes\n",
    "K = 100"
   ]
  },
  {
   "cell_type": "code",
   "execution_count": 15,
   "metadata": {},
   "outputs": [
    {
     "name": "stdout",
     "output_type": "stream",
     "text": [
      "0.9970248019202124\n",
      "{'aa': 0.9982208746787042, 'pp': 0.9988039272415081, 'ap': 0.0011960727584918707, 'pa': 0.0017791253212958243}\n"
     ]
    }
   ],
   "source": [
    "#preCOVID\n",
    "partition = {0:pv0, 1:av0}\n",
    "rwc0,ll0,rr0,lr0,rl0 = rwc_score(wcc0_w, partition, k=K)"
   ]
  },
  {
   "cell_type": "code",
   "execution_count": 16,
   "metadata": {},
   "outputs": [
    {
     "name": "stdout",
     "output_type": "stream",
     "text": [
      "0.9998749890614023\n",
      "{'aa': 0.9998948148834214, 'pp': 0.9999801741779809, 'ap': 1.9825822019114958e-05, 'pa': 0.00010518511657865751}\n"
     ]
    }
   ],
   "source": [
    "#earlyCOVID\n",
    "partition = {0:pv1, 1:av1}\n",
    "rwc1,ll1,rr1,lr1,rl1 = rwc_score(wcc1_w, partition, k=K)"
   ]
  },
  {
   "cell_type": "code",
   "execution_count": 17,
   "metadata": {},
   "outputs": [
    {
     "name": "stdout",
     "output_type": "stream",
     "text": [
      "0.9853054723381527\n",
      "{'aa': 0.9966932352192039, 'pp': 0.9886122371189487, 'ap': 0.011387762881051224, 'pa': 0.0033067647807960786}\n"
     ]
    }
   ],
   "source": [
    "#preVAX\n",
    "partition = {0:pv2, 1:av2}\n",
    "rwc2,ll2,rr2,lr2,rl2 = rwc_score(wcc2_w, partition, k=K)"
   ]
  },
  {
   "cell_type": "code",
   "execution_count": 18,
   "metadata": {},
   "outputs": [
    {
     "name": "stdout",
     "output_type": "stream",
     "text": [
      "0.9537776545268969\n",
      "{'aa': 0.9855944829957548, 'pp': 0.9681831715311421, 'ap': 0.03181682846885781, 'pa': 0.014405517004245203}\n"
     ]
    }
   ],
   "source": [
    "#earlyVAX\n",
    "partition = {0:pv3, 1:av3}\n",
    "rwc3,ll3,rr3,lr3,rl3 = rwc_score(wcc3_w, partition, k=K)"
   ]
  },
  {
   "cell_type": "code",
   "execution_count": 19,
   "metadata": {},
   "outputs": [
    {
     "name": "stdout",
     "output_type": "stream",
     "text": [
      "0.964949957539243\n",
      "{'aa': 0.9848109578241837, 'pp': 0.9801389997150592, 'ap': 0.01986100028494076, 'pa': 0.015189042175816304}\n"
     ]
    }
   ],
   "source": [
    "#VAXdrive\n",
    "partition = {0:pv4, 1:av4}\n",
    "rwc4,ll4,rr4,lr4,rl4 = rwc_score(wcc4_w, partition, k=K)"
   ]
  },
  {
   "cell_type": "code",
   "execution_count": 20,
   "metadata": {},
   "outputs": [
    {
     "name": "stdout",
     "output_type": "stream",
     "text": [
      "0.9786539617454362\n",
      "{'aa': 0.9855828305468096, 'pp': 0.9930711311986266, 'ap': 0.0069288688013735686, 'pa': 0.014417169453190362}\n"
     ]
    }
   ],
   "source": [
    "#lateVAX\n",
    "partition = {0:pv5, 1:av5}\n",
    "rwc5,ll5,rr5,lr5,rl5 = rwc_score(wcc5_w, partition, k=K)"
   ]
  },
  {
   "cell_type": "code",
   "execution_count": 21,
   "metadata": {},
   "outputs": [],
   "source": [
    "#summarizing into a table\n",
    "table = {\n",
    "    \n",
    "    'RWC': [np.round(rwc0,4),np.round(rwc1,4),np.round(rwc2,4),\n",
    "                 np.round(rwc3,4),np.round(rwc4,4),np.round(rwc5,4)],\n",
    "    'hh prob': [np.round(ll0,4),np.round(ll1,4),np.round(ll2,4),\n",
    "                 np.round(ll3,4),np.round(ll4,4),np.round(ll5,4)],\n",
    "    'sh prob': [np.round(rl0,4),np.round(rl1,4),np.round(rl2,4),\n",
    "                 np.round(rl3,4),np.round(rl4,4),np.round(rl5,4)],\n",
    "    'hs prob': [np.round(lr0,4),np.round(lr1,4),np.round(lr2,4),\n",
    "                 np.round(lr3,4),np.round(lr4,4),np.round(lr5,4)],\n",
    "    'ss prob': [np.round(rr0,4),np.round(rr1,4),np.round(rr2,4),\n",
    "                 np.round(rr3,4),np.round(rr4,4),np.round(rr5,4)]\n",
    "}"
   ]
  },
  {
   "cell_type": "code",
   "execution_count": 22,
   "metadata": {},
   "outputs": [
    {
     "data": {
      "text/html": [
       "<div>\n",
       "<style scoped>\n",
       "    .dataframe tbody tr th:only-of-type {\n",
       "        vertical-align: middle;\n",
       "    }\n",
       "\n",
       "    .dataframe tbody tr th {\n",
       "        vertical-align: top;\n",
       "    }\n",
       "\n",
       "    .dataframe thead th {\n",
       "        text-align: right;\n",
       "    }\n",
       "</style>\n",
       "<table border=\"1\" class=\"dataframe\">\n",
       "  <thead>\n",
       "    <tr style=\"text-align: right;\">\n",
       "      <th></th>\n",
       "      <th>RWC</th>\n",
       "      <th>aa prob</th>\n",
       "      <th>pa prob</th>\n",
       "      <th>ap prob</th>\n",
       "      <th>pp prob</th>\n",
       "    </tr>\n",
       "  </thead>\n",
       "  <tbody>\n",
       "    <tr>\n",
       "      <th>preCOVID</th>\n",
       "      <td>0.9970</td>\n",
       "      <td>0.9982</td>\n",
       "      <td>0.0018</td>\n",
       "      <td>0.0012</td>\n",
       "      <td>0.9988</td>\n",
       "    </tr>\n",
       "    <tr>\n",
       "      <th>earlyCOVID</th>\n",
       "      <td>0.9999</td>\n",
       "      <td>0.9999</td>\n",
       "      <td>0.0001</td>\n",
       "      <td>0.0000</td>\n",
       "      <td>1.0000</td>\n",
       "    </tr>\n",
       "    <tr>\n",
       "      <th>preVAX</th>\n",
       "      <td>0.9853</td>\n",
       "      <td>0.9967</td>\n",
       "      <td>0.0033</td>\n",
       "      <td>0.0114</td>\n",
       "      <td>0.9886</td>\n",
       "    </tr>\n",
       "    <tr>\n",
       "      <th>earlyVAX</th>\n",
       "      <td>0.9538</td>\n",
       "      <td>0.9856</td>\n",
       "      <td>0.0144</td>\n",
       "      <td>0.0318</td>\n",
       "      <td>0.9682</td>\n",
       "    </tr>\n",
       "    <tr>\n",
       "      <th>VAXdrive</th>\n",
       "      <td>0.9649</td>\n",
       "      <td>0.9848</td>\n",
       "      <td>0.0152</td>\n",
       "      <td>0.0199</td>\n",
       "      <td>0.9801</td>\n",
       "    </tr>\n",
       "    <tr>\n",
       "      <th>lateVAX</th>\n",
       "      <td>0.9787</td>\n",
       "      <td>0.9856</td>\n",
       "      <td>0.0144</td>\n",
       "      <td>0.0069</td>\n",
       "      <td>0.9931</td>\n",
       "    </tr>\n",
       "  </tbody>\n",
       "</table>\n",
       "</div>"
      ],
      "text/plain": [
       "               RWC  aa prob  pa prob  ap prob  pp prob\n",
       "preCOVID    0.9970   0.9982   0.0018   0.0012   0.9988\n",
       "earlyCOVID  0.9999   0.9999   0.0001   0.0000   1.0000\n",
       "preVAX      0.9853   0.9967   0.0033   0.0114   0.9886\n",
       "earlyVAX    0.9538   0.9856   0.0144   0.0318   0.9682\n",
       "VAXdrive    0.9649   0.9848   0.0152   0.0199   0.9801\n",
       "lateVAX     0.9787   0.9856   0.0144   0.0069   0.9931"
      ]
     },
     "execution_count": 22,
     "metadata": {},
     "output_type": "execute_result"
    }
   ],
   "source": [
    "table_df = pd.DataFrame(table)\n",
    "table_df.index = ['preCOVID','earlyCOVID','preVAX','earlyVAX','VAXdrive','lateVAX']\n",
    "table_df"
   ]
  },
  {
   "cell_type": "markdown",
   "metadata": {},
   "source": [
    "## 2-Y axis plot\n"
   ]
  },
  {
   "cell_type": "code",
   "execution_count": 23,
   "metadata": {},
   "outputs": [],
   "source": [
    "rwcs = [rwc0,rwc1,rwc2,rwc3,rwc4,rwc5]\n",
    "rls = [rl0,rl1,rl2,rl3,rl4,rl5]\n",
    "lrs = [lr0,lr1,lr2,lr3,lr4,lr5]"
   ]
  },
  {
   "cell_type": "code",
   "execution_count": 24,
   "metadata": {},
   "outputs": [
    {
     "data": {
      "image/png": "[encoded data removed]",
      "text/plain": [
       "<Figure size 576x288 with 2 Axes>"
      ]
     },
     "metadata": {
      "needs_background": "light"
     },
     "output_type": "display_data"
    }
   ],
   "source": [
    "import numpy as np\n",
    "import matplotlib.pyplot as plt\n",
    "\n",
    "# Create some mock data\n",
    "#t = np.arange(0, 6, 1)\n",
    "t = ['i','ii','iii','iv','v','vi']\n",
    "data1 = rwcs \n",
    "data2 = rls \n",
    "data3 = lrs \n",
    "\n",
    "\n",
    "fig, ax1 = plt.subplots()\n",
    "fig.set_size_inches(8,4)\n",
    "\n",
    "color = 'purple'\n",
    "\n",
    "ax1.set_xlabel('time window', fontsize = 15)\n",
    "ax1.set_ylabel('RWC', color='black',fontsize=15)\n",
    "ax1.plot(t, data1, marker='s', linestyle='-' ,markersize=10, color=color, label='RWC')\n",
    "ax1.tick_params(axis='y', labelcolor='black')\n",
    "ax1.legend(fontsize=12)\n",
    "\n",
    "\n",
    "ax2 = ax1.twinx()  # instantiate a second axes that shares the same x-axis\n",
    "\n",
    "color = 'black'\n",
    "color1 = 'darkslategray'\n",
    "color2 = 'darkslategray'\n",
    "ax2.set_ylabel('transition probability', color='black', fontsize=15)\n",
    "ax2.plot(t, data2, color=color1, marker='o', linestyle='--', markersize=10, label='S'+r'$\\rightarrow$'+'H')\n",
    "ax2.plot(t, data3, color=color2, marker='^', linestyle=':', markersize=10, label='H'+r'$\\rightarrow$'+'S')\n",
    "ax2.legend(loc='lower right', fontsize=12)\n",
    "ax2.tick_params(axis='y', labelcolor=color)\n",
    "\n",
    "\n",
    "fig.tight_layout()  # otherwise the right y-label is slightly clippe\n",
    "plt.savefig('/../figures/RWC_HSSH_probs.pdf')\n",
    "plt.show()"
   ]
  },
  {
   "cell_type": "code",
   "execution_count": null,
   "metadata": {},
   "outputs": [],
   "source": []
  }
 ],
 "metadata": {
  "kernelspec": {
   "display_name": "Python 3",
   "language": "python",
   "name": "python3"
  },
  "language_info": {
   "codemirror_mode": {
    "name": "ipython",
    "version": 3
   },
   "file_extension": ".py",
   "mimetype": "text/x-python",
   "name": "python",
   "nbconvert_exporter": "python",
   "pygments_lexer": "ipython3",
   "version": "3.8.5"
  }
 },
 "nbformat": 4,
 "nbformat_minor": 2
}
