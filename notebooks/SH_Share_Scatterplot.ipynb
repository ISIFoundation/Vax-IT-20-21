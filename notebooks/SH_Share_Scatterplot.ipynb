{
 "cells": [
  {
   "cell_type": "markdown",
   "metadata": {},
   "source": [
    "# Hesitant Share scatterplot\n",
    "## In this notebook:\n",
    "* We do a scatterplot of vaccine-hesitancy-share for the 60 topics per time window that we found through NMF optimization (20 general topics, 20 vaccine hesitant topics and 20 vaccine supporters topics)."
   ]
  },
  {
   "cell_type": "code",
   "execution_count": null,
   "metadata": {},
   "outputs": [],
   "source": [
    "import numpy as np\n",
    "import matplotlib.pyplot as plt\n",
    "import pandas as pd\n",
    "import seaborn as sns"
   ]
  },
  {
   "cell_type": "markdown",
   "metadata": {},
   "source": [
    "## Importing NMFs"
   ]
  },
  {
   "cell_type": "markdown",
   "metadata": {},
   "source": [
    "2 # hesitant tweets: 8991 # supporters tweets: 8991 # tweets: b \n",
    "\n",
    "2 # hesitant tweets: 11755 # supporters tweets: 11755 # tweets: 125887 \n",
    "\n",
    "2 # hesitant tweets: 142042 # supporters tweets: 142042 # tweets: 1036177 \n",
    "\n",
    "2 # hesitant tweets: 1708618 # supporters tweets: 1708618 # tweets: 5137559 \n",
    "\n",
    "2 # hesitant tweets: 937383 # supporters tweets: 937383 # tweets: 4160533 \n",
    "\n",
    "2 # hesitant tweets: 974640 # supporters tweets: 974640 # tweets: 5450244"
   ]
  },
  {
   "cell_type": "markdown",
   "metadata": {},
   "source": [
    "## Importing dataframes"
   ]
  },
  {
   "cell_type": "code",
   "execution_count": null,
   "metadata": {
    "scrolled": true
   },
   "outputs": [],
   "source": [
    "g0 = pd.read_csv('/../data/general_i.csv').drop(['Unnamed: 0'],axis=1)\n",
    "a0 = pd.read_csv('/../data/hesitant_i.csv').drop(['Unnamed: 0'],axis=1)\n",
    "p0 = pd.read_csv('/../data/supporters_i.csv').drop(['Unnamed: 0'],axis=1)\n",
    "\n",
    "g1 = pd.read_csv('/../data/general_ii.csv').drop(['Unnamed: 0'],axis=1)\n",
    "a1 = pd.read_csv('/../data/hesitant_ii.csv').drop(['Unnamed: 0'],axis=1)\n",
    "p1 = pd.read_csv('/../data/supporters_ii.csv').drop(['Unnamed: 0'],axis=1)\n",
    "\n",
    "g2 = pd.read_csv('/../data/general_iii.csv').drop(['Unnamed: 0'],axis=1)\n",
    "a2 = pd.read_csv('/../data/hesitant_iii.csv').drop(['Unnamed: 0'],axis=1)\n",
    "p2 = pd.read_csv('/../data/supporters_iii.csv').drop(['Unnamed: 0'],axis=1)\n",
    "\n",
    "g3 = pd.read_csv('/../data/general_iv.csv').drop(['Unnamed: 0'],axis=1)\n",
    "a3 = pd.read_csv('/../data/hesitant_iv.csv').drop(['Unnamed: 0'],axis=1)\n",
    "p3 = pd.read_csv('/../data/supporters_iv.csv').drop(['Unnamed: 0'],axis=1)\n",
    "\n",
    "g4 = pd.read_csv('/../data/general_v.csv').drop(['Unnamed: 0'],axis=1)\n",
    "a4 = pd.read_csv('/../data/hesitant_v.csv').drop(['Unnamed: 0'],axis=1)\n",
    "p4 = pd.read_csv('/../data/supporters_v.csv').drop(['Unnamed: 0'],axis=1)\n",
    "\n",
    "g5 = pd.read_csv('/../data/general_vi.csv').drop(['Unnamed: 0'],axis=1)\n",
    "a5 = pd.read_csv('/../data/hesitant_vi.csv').drop(['Unnamed: 0'],axis=1)\n",
    "p5 = pd.read_csv('/../data/supporters_vi.csv').drop(['Unnamed: 0'],axis=1)\n",
    "\n",
    "\n",
    "g0.head()"
   ]
  },
  {
   "cell_type": "code",
   "execution_count": null,
   "metadata": {},
   "outputs": [],
   "source": [
    "g0['group'] = 0\n",
    "g1['group'] = 0\n",
    "g2['group'] = 0\n",
    "g3['group'] = 0\n",
    "g4['group'] = 0\n",
    "g5['group'] = 0\n",
    "\n",
    "a0['group'] = 1\n",
    "a1['group'] = 1\n",
    "a2['group'] = 1\n",
    "a3['group'] = 1\n",
    "a4['group'] = 1\n",
    "a5['group'] = 1\n",
    "\n",
    "p0['group'] = 2\n",
    "p1['group'] = 2\n",
    "p2['group'] = 2\n",
    "p3['group'] = 2\n",
    "p4['group'] = 2\n",
    "p5['group'] = 2"
   ]
  },
  {
   "cell_type": "code",
   "execution_count": null,
   "metadata": {},
   "outputs": [],
   "source": [
    "g0['Time Window'] = 0\n",
    "a0['Time Window'] = 0\n",
    "p0['Time Window'] = 0\n",
    "\n",
    "g1['Time Window'] = 1\n",
    "a1['Time Window'] = 1\n",
    "p1['Time Window'] = 1\n",
    "\n",
    "g2['Time Window'] = 2\n",
    "a2['Time Window'] = 2\n",
    "p2['Time Window'] = 2\n",
    "\n",
    "g3['Time Window'] = 3\n",
    "a3['Time Window'] = 3\n",
    "p3['Time Window'] = 3\n",
    "\n",
    "g4['Time Window'] = 4\n",
    "a4['Time Window'] = 4\n",
    "p4['Time Window'] = 4\n",
    "\n",
    "g5['Time Window'] = 5\n",
    "a5['Time Window'] = 5\n",
    "p5['Time Window'] = 5"
   ]
  },
  {
   "cell_type": "code",
   "execution_count": null,
   "metadata": {},
   "outputs": [],
   "source": [
    "g0"
   ]
  },
  {
   "cell_type": "code",
   "execution_count": null,
   "metadata": {},
   "outputs": [],
   "source": [
    "def norm(g):\n",
    "    g['strength'] = g.strength / g.strength.sum()\n",
    "    return g"
   ]
  },
  {
   "cell_type": "code",
   "execution_count": null,
   "metadata": {},
   "outputs": [],
   "source": [
    "df = pd.concat([norm(g0),norm(a0),norm(p0),\n",
    "                norm(g1),norm(a1),norm(p1),\n",
    "                norm(g2),norm(a2),norm(p2),\n",
    "                norm(g3),norm(a3),norm(p3),\n",
    "                norm(g4),norm(a4),norm(p4),\n",
    "                norm(g5),norm(a5),norm(p5)]).reset_index(drop=True)\n",
    "df"
   ]
  },
  {
   "cell_type": "code",
   "execution_count": null,
   "metadata": {},
   "outputs": [],
   "source": [
    "df['tw_g'] = df['Time Window'] + (df['group']*0.2 - 0.2)"
   ]
  },
  {
   "cell_type": "code",
   "execution_count": null,
   "metadata": {},
   "outputs": [],
   "source": [
    "df['tw_g']"
   ]
  },
  {
   "cell_type": "code",
   "execution_count": null,
   "metadata": {},
   "outputs": [],
   "source": [
    "from matplotlib.lines import Line2D\n",
    "from matplotlib.colors import ListedColormap\n",
    "\n",
    "#df.plot(kind='scatter', y='strength', x='antivax_s', c='Time Window', cmap='cool') \n",
    "sns.set(font_scale=1.2)\n",
    "sns.set_theme(style='white')\n",
    "ax, fig = plt.subplots(figsize=(7,5))\n",
    "sns.set(font_scale=1.2)\n",
    "sns.set_theme(style='white')\n",
    "'''p = sns.scatterplot(data=df, x='Time Window', y='antivax_s', color='darkslategrey',\n",
    "               s=100, alpha=0.8, sizes=(30,300), size='strength')\n",
    "'''\n",
    "palette = ListedColormap(['grey', 'red', 'green'])\n",
    "p = sns.scatterplot(data=df, y='antivax_s', x='tw_g', hue='group', palette=palette,\n",
    "               s=100, alpha=0.9, sizes=(30,300), size='strength', legend=False)\n",
    "\n",
    "# plt.legend(bbox_to_anchor=(1.05, 1), loc=2, borderaxespad=0.)\n",
    "#plt.legend(title='Topic Strength')\n",
    "p.set_ylabel('Vaccine Hesitant Share')#,fontsize=15)\n",
    "p.set_xlabel('Time Window')#,fontsize=15)\n",
    "# p.set_yticks(np.arange(0.0,1.1,0.1))\n",
    "# p.set_xticks(['i','ii','iii','iv','v','vi'])\n",
    "plt.xticks(np.arange(6),['i','ii','iii','iv','v','vi'], fontsize=12)\n",
    "p.axhline(0.5, color='grey', alpha=0.8, linestyle='--', zorder=-1)\n",
    "# p.axvline(2.5, color='grey')\n",
    "# p.axvline(5.5, color='grey')\n",
    "# p.axvline(8.5, color='grey')\n",
    "# p.axvline(11.5, color='grey')\n",
    "# p.axvline(14.5, color='grey')\n",
    "plt.ylim(0, 1)\n",
    "\n",
    "\n",
    "\n",
    "colors = ['grey', 'red', 'green'] #[plt.cm.magma.colors[i] for i in [int(256*h) for h in [0.25, 0.5, 0.75]]]\n",
    "custom = [Line2D([], [], marker='.', markersize=15, color=colors[0], linestyle='None'),\n",
    "          Line2D([], [], marker='.', markersize=15, color=colors[1], linestyle='None'),\n",
    "          Line2D([], [], marker='.', markersize=15, color=colors[2], linestyle='None')]\n",
    "\n",
    "plt.legend(custom, ['General', 'Vaccine Hesitant', 'Vaccine Supporters'], ncol=3, loc='upper center', frameon=False)\n",
    "\n",
    "\n",
    "plt.tight_layout()\n",
    "plt.savefig('/../figures/topic_plot_bars_final.pdf')"
   ]
  },
  {
   "cell_type": "code",
   "execution_count": null,
   "metadata": {},
   "outputs": [],
   "source": []
  },
  {
   "cell_type": "code",
   "execution_count": null,
   "metadata": {},
   "outputs": [],
   "source": [
    "a0['antivax_s'].argmax()"
   ]
  },
  {
   "cell_type": "code",
   "execution_count": null,
   "metadata": {},
   "outputs": [],
   "source": [
    "topic = df[(df.group==1)&(df['Time Window']==0)]\n",
    "topic.iloc[topic['antivax_s'].argmax()]"
   ]
  },
  {
   "cell_type": "code",
   "execution_count": null,
   "metadata": {},
   "outputs": [],
   "source": [
    "topic"
   ]
  },
  {
   "cell_type": "code",
   "execution_count": null,
   "metadata": {},
   "outputs": [],
   "source": []
  },
  {
   "cell_type": "code",
   "execution_count": null,
   "metadata": {},
   "outputs": [],
   "source": [
    "from matplotlib.lines import Line2D\n",
    "from matplotlib.colors import ListedColormap\n",
    "import matplotlib as mpl\n",
    "mpl.rcParams['figure.dpi'] = 300\n",
    "\n",
    "#df.plot(kind='scatter', y='strength', x='antivax_s', c='Time Window', cmap='cool') \n",
    "sns.set(font_scale=1.2)\n",
    "sns.set_theme(style='white')\n",
    "ax, fig = plt.subplots(figsize=(7,5))\n",
    "sns.set(font_scale=1.2)\n",
    "sns.set_theme(style='white')\n",
    "'''p = sns.scatterplot(data=df, x='Time Window', y='antivax_s', color='darkslategrey',\n",
    "               s=100, alpha=0.8, sizes=(30,300), size='strength')\n",
    "'''\n",
    "palette = ListedColormap(['grey', 'red', 'green'])\n",
    "p = sns.scatterplot(data=df, y='antivax_s', x='tw_g', hue='group', palette=palette,\n",
    "               s=100, alpha=0.9, sizes=(30,300), size='strength', legend=False)\n",
    "\n",
    "# plt.legend(bbox_to_anchor=(1.05, 1), loc=2, borderaxespad=0.)\n",
    "#plt.legend(title='Topic Strength')\n",
    "p.set_ylabel('Vaccine Hesitant Share')#,fontsize=15)\n",
    "p.set_xlabel('Time Window')#,fontsize=15)\n",
    "# p.set_yticks(np.arange(0.0,1.1,0.1))\n",
    "# p.set_xticks(['i','ii','iii','iv','v','vi'])\n",
    "plt.xticks(np.arange(6),['i','ii','iii','iv','v','vi'], fontsize=12)\n",
    "p.axhline(0.5, color='grey', alpha=0.8, linestyle='--', zorder=-1)\n",
    "# p.axvline(2.5, color='grey')\n",
    "# p.axvline(5.5, color='grey')\n",
    "# p.axvline(8.5, color='grey')\n",
    "# p.axvline(11.5, color='grey')\n",
    "# p.axvline(14.5, color='grey')\n",
    "plt.ylim(0, 1)\n",
    "\n",
    "\n",
    "\n",
    "colors = ['grey', 'red', 'green'] #[plt.cm.magma.colors[i] for i in [int(256*h) for h in [0.25, 0.5, 0.75]]]\n",
    "custom = [Line2D([], [], marker='.', markersize=15, color=colors[0], linestyle='None'),\n",
    "          Line2D([], [], marker='.', markersize=15, color=colors[1], linestyle='None'),\n",
    "          Line2D([], [], marker='.', markersize=15, color=colors[2], linestyle='None')]\n",
    "\n",
    "plt.legend(custom, ['General', 'Vaccine Hesitant', 'Vaccine Supporters'], ncol=3, loc='upper center', frameon=False)\n",
    "\n",
    "\n",
    "for interval in range(6):\n",
    "    topic = df[(df.group==1)&(df['Time Window']==interval)]\n",
    "    topic = topic.iloc[topic['antivax_s'].argmax()]\n",
    "    plt.gca().annotate(\"\\n\".join(topic.topic_words.split(' ')[:4]),\n",
    "            xy=(interval, topic.antivax_s),\n",
    "            xytext=(interval, 0.92), #textcoords='axes fraction',\n",
    "            arrowprops=dict(facecolor='black', shrink=0.05),\n",
    "            horizontalalignment='center', verticalalignment='top', fontsize=5,\n",
    "            bbox=dict(boxstyle=\"round\", fc=\"0.8\"),)\n",
    "    \n",
    "for interval in range(6):\n",
    "    topic = df[(df.group==2)&(df['Time Window']==interval)]\n",
    "    topic = topic.iloc[topic['antivax_s'].argmin()]\n",
    "    plt.gca().annotate(\"\\n\".join(topic.topic_words.split(' ')[:4]),\n",
    "            xy=(interval+0.2, topic.antivax_s),\n",
    "            xytext=(interval+0.2, 0.08), #textcoords='axes fraction',\n",
    "            arrowprops=dict(facecolor='black', shrink=0.05),\n",
    "            horizontalalignment='center', verticalalignment='top', fontsize=5,\n",
    "            bbox=dict(boxstyle=\"round\", fc=\"0.8\"),)\n",
    "\n",
    "plt.tight_layout()\n",
    "plt.savefig('/../figures/topic_plot_bars_final.pdf')"
   ]
  },
  {
   "cell_type": "code",
   "execution_count": null,
   "metadata": {},
   "outputs": [],
   "source": []
  }
 ],
 "metadata": {
  "kernelspec": {
   "display_name": "Python 3",
   "language": "python",
   "name": "python3"
  },
  "language_info": {
   "codemirror_mode": {
    "name": "ipython",
    "version": 3
   },
   "file_extension": ".py",
   "mimetype": "text/x-python",
   "name": "python",
   "nbconvert_exporter": "python",
   "pygments_lexer": "ipython3",
   "version": "3.8.5"
  }
 },
 "nbformat": 4,
 "nbformat_minor": 4
}
